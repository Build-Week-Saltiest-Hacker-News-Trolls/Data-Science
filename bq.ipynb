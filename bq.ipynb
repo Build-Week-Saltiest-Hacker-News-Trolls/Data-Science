{
 "cells": [
  {
   "cell_type": "code",
   "execution_count": 7,
   "metadata": {},
   "outputs": [],
   "source": [
    "# set env variable to json credential file of google cloud\n",
    "\n",
    "import os\n",
    "os.environ['GOOGLE_APPLICATION_CREDENTIALS'] = 'json file path here'"
   ]
  },
  {
   "cell_type": "code",
   "execution_count": 123,
   "metadata": {},
   "outputs": [],
   "source": [
    "from google.cloud import bigquery\n",
    "import time\n",
    "import pandas as pd\n",
    "import numpy as np"
   ]
  },
  {
   "cell_type": "code",
   "execution_count": 9,
   "metadata": {},
   "outputs": [],
   "source": [
    "# setup client\n",
    "bq_client = bigquery.Client() "
   ]
  },
  {
   "cell_type": "code",
   "execution_count": 10,
   "metadata": {},
   "outputs": [],
   "source": [
    "#Query for pulling data of a username\n",
    "QUERY = '''SELECT  * \n",
    "        FROM `bigquery-public-data.hacker_news.full_201510`\n",
    "        WHERE `bigquery-public-data.hacker_news.full_201510`.by = \"danmaz74\"\n",
    "        '''"
   ]
  },
  {
   "cell_type": "code",
   "execution_count": 29,
   "metadata": {},
   "outputs": [],
   "source": [
    "df = bq_client.query(QUERY).to_dataframe()"
   ]
  },
  {
   "cell_type": "code",
   "execution_count": 31,
   "metadata": {},
   "outputs": [
    {
     "data": {
      "text/plain": [
       "(1680, 13)"
      ]
     },
     "execution_count": 31,
     "metadata": {},
     "output_type": "execute_result"
    }
   ],
   "source": [
    "df.shape"
   ]
  },
  {
   "cell_type": "code",
   "execution_count": 32,
   "metadata": {},
   "outputs": [
    {
     "data": {
      "text/html": [
       "<div>\n",
       "<style scoped>\n",
       "    .dataframe tbody tr th:only-of-type {\n",
       "        vertical-align: middle;\n",
       "    }\n",
       "\n",
       "    .dataframe tbody tr th {\n",
       "        vertical-align: top;\n",
       "    }\n",
       "\n",
       "    .dataframe thead th {\n",
       "        text-align: right;\n",
       "    }\n",
       "</style>\n",
       "<table border=\"1\" class=\"dataframe\">\n",
       "  <thead>\n",
       "    <tr style=\"text-align: right;\">\n",
       "      <th></th>\n",
       "      <th>by</th>\n",
       "      <th>score</th>\n",
       "      <th>time</th>\n",
       "      <th>title</th>\n",
       "      <th>type</th>\n",
       "      <th>url</th>\n",
       "      <th>text</th>\n",
       "      <th>parent</th>\n",
       "      <th>deleted</th>\n",
       "      <th>dead</th>\n",
       "      <th>descendants</th>\n",
       "      <th>id</th>\n",
       "      <th>ranking</th>\n",
       "    </tr>\n",
       "  </thead>\n",
       "  <tbody>\n",
       "    <tr>\n",
       "      <th>0</th>\n",
       "      <td>danmaz74</td>\n",
       "      <td>NaN</td>\n",
       "      <td>1406974965</td>\n",
       "      <td>None</td>\n",
       "      <td>comment</td>\n",
       "      <td>None</td>\n",
       "      <td>&amp;quot;Adapter&amp;quot;?</td>\n",
       "      <td>8124494.0</td>\n",
       "      <td>None</td>\n",
       "      <td>None</td>\n",
       "      <td>NaN</td>\n",
       "      <td>8124572</td>\n",
       "      <td>None</td>\n",
       "    </tr>\n",
       "    <tr>\n",
       "      <th>1</th>\n",
       "      <td>danmaz74</td>\n",
       "      <td>NaN</td>\n",
       "      <td>1436624566</td>\n",
       "      <td>None</td>\n",
       "      <td>comment</td>\n",
       "      <td>None</td>\n",
       "      <td>For the Romans, an often cited reason for the ...</td>\n",
       "      <td>9868765.0</td>\n",
       "      <td>None</td>\n",
       "      <td>None</td>\n",
       "      <td>NaN</td>\n",
       "      <td>9869850</td>\n",
       "      <td>None</td>\n",
       "    </tr>\n",
       "    <tr>\n",
       "      <th>2</th>\n",
       "      <td>danmaz74</td>\n",
       "      <td>NaN</td>\n",
       "      <td>1338129641</td>\n",
       "      <td>None</td>\n",
       "      <td>comment</td>\n",
       "      <td>None</td>\n",
       "      <td>And that's all I need ;)</td>\n",
       "      <td>4030140.0</td>\n",
       "      <td>None</td>\n",
       "      <td>None</td>\n",
       "      <td>NaN</td>\n",
       "      <td>4030164</td>\n",
       "      <td>None</td>\n",
       "    </tr>\n",
       "    <tr>\n",
       "      <th>3</th>\n",
       "      <td>danmaz74</td>\n",
       "      <td>NaN</td>\n",
       "      <td>1421700122</td>\n",
       "      <td>None</td>\n",
       "      <td>comment</td>\n",
       "      <td>None</td>\n",
       "      <td>With a couple of books I reference often, I&amp;#x...</td>\n",
       "      <td>8913265.0</td>\n",
       "      <td>None</td>\n",
       "      <td>None</td>\n",
       "      <td>NaN</td>\n",
       "      <td>8913948</td>\n",
       "      <td>None</td>\n",
       "    </tr>\n",
       "    <tr>\n",
       "      <th>4</th>\n",
       "      <td>danmaz74</td>\n",
       "      <td>NaN</td>\n",
       "      <td>1352372488</td>\n",
       "      <td>None</td>\n",
       "      <td>comment</td>\n",
       "      <td>None</td>\n",
       "      <td>On the other hand, 99.7% of my readers didn't ...</td>\n",
       "      <td>4757225.0</td>\n",
       "      <td>None</td>\n",
       "      <td>None</td>\n",
       "      <td>NaN</td>\n",
       "      <td>4757283</td>\n",
       "      <td>None</td>\n",
       "    </tr>\n",
       "  </tbody>\n",
       "</table>\n",
       "</div>"
      ],
      "text/plain": [
       "         by  score        time title     type   url  \\\n",
       "0  danmaz74    NaN  1406974965  None  comment  None   \n",
       "1  danmaz74    NaN  1436624566  None  comment  None   \n",
       "2  danmaz74    NaN  1338129641  None  comment  None   \n",
       "3  danmaz74    NaN  1421700122  None  comment  None   \n",
       "4  danmaz74    NaN  1352372488  None  comment  None   \n",
       "\n",
       "                                                text     parent deleted  dead  \\\n",
       "0                               &quot;Adapter&quot;?  8124494.0    None  None   \n",
       "1  For the Romans, an often cited reason for the ...  9868765.0    None  None   \n",
       "2                           And that's all I need ;)  4030140.0    None  None   \n",
       "3  With a couple of books I reference often, I&#x...  8913265.0    None  None   \n",
       "4  On the other hand, 99.7% of my readers didn't ...  4757225.0    None  None   \n",
       "\n",
       "   descendants       id ranking  \n",
       "0          NaN  8124572    None  \n",
       "1          NaN  9869850    None  \n",
       "2          NaN  4030164    None  \n",
       "3          NaN  8913948    None  \n",
       "4          NaN  4757283    None  "
      ]
     },
     "execution_count": 32,
     "metadata": {},
     "output_type": "execute_result"
    }
   ],
   "source": [
    "df.head()"
   ]
  },
  {
   "cell_type": "code",
   "execution_count": 24,
   "metadata": {},
   "outputs": [
    {
     "name": "stdout",
     "output_type": "stream",
     "text": [
      "query took: 1.23 s\n"
     ]
    }
   ],
   "source": [
    "# job_config = bigquery.QueryJobConfig()\n",
    "# now=time.time()\n",
    "# query_job=bq_client.query(QUERY,location='US')\n",
    "# res=query_job.result()\n",
    "# print('query took:',round(time.time()-now,2),'s')"
   ]
  },
  {
   "cell_type": "code",
   "execution_count": 13,
   "metadata": {},
   "outputs": [],
   "source": [
    "# now=time.time()\n",
    "# destination_uri = \"gs://karthikkm028-ds/*hacker.csv\"\n",
    "# dataset_ref = bq_client.dataset(\"hacker_news\", project='bigquery-public-data')\n",
    "# table_ref = dataset_ref.table(\"full_201510\")\n",
    "\n",
    "# extract_job = bq_client.extract_table(\n",
    "#     table_ref,\n",
    "#     destination_uri)\n",
    "# extract_job.result()  # Waits for job to complete\n",
    "# print('create table and write to GCS took:',round(time.time()-now,2),'s')"
   ]
  },
  {
   "cell_type": "code",
   "execution_count": 60,
   "metadata": {},
   "outputs": [
    {
     "name": "stderr",
     "output_type": "stream",
     "text": [
      "/Users/karthikmahendra/anaconda3/lib/python3.7/site-packages/IPython/core/interactiveshell.py:3214: DtypeWarning: Columns (7,8) have mixed types. Specify dtype option on import or set low_memory=False.\n",
      "  if (yield from self.run_code(code, result)):\n",
      "/Users/karthikmahendra/anaconda3/lib/python3.7/site-packages/IPython/core/interactiveshell.py:3214: DtypeWarning: Columns (1,2,5,7,8) have mixed types. Specify dtype option on import or set low_memory=False.\n",
      "  if (yield from self.run_code(code, result)):\n"
     ]
    },
    {
     "name": "stdout",
     "output_type": "stream",
     "text": [
      "read csv took: 1421.34 s\n"
     ]
    }
   ],
   "source": [
    "# gcs = gcsfs.GCSFileSystem(project='bigquery-public-data') \n",
    "# files=gcs.glob(destination_uri)\n",
    "# df = pd.concat([pd.read_csv('gs://'+f) for f in files], ignore_index=True)\n",
    "# print('read csv took:',round(time.time()-now,2),'s')"
   ]
  },
  {
   "cell_type": "code",
   "execution_count": 101,
   "metadata": {},
   "outputs": [],
   "source": [
    "\n",
    "df_drop = df.drop(columns= ['score','title','url','deleted','dead','descendants','ranking'])"
   ]
  },
  {
   "cell_type": "code",
   "execution_count": 102,
   "metadata": {},
   "outputs": [
    {
     "data": {
      "text/html": [
       "<div>\n",
       "<style scoped>\n",
       "    .dataframe tbody tr th:only-of-type {\n",
       "        vertical-align: middle;\n",
       "    }\n",
       "\n",
       "    .dataframe tbody tr th {\n",
       "        vertical-align: top;\n",
       "    }\n",
       "\n",
       "    .dataframe thead th {\n",
       "        text-align: right;\n",
       "    }\n",
       "</style>\n",
       "<table border=\"1\" class=\"dataframe\">\n",
       "  <thead>\n",
       "    <tr style=\"text-align: right;\">\n",
       "      <th></th>\n",
       "      <th>by</th>\n",
       "      <th>time</th>\n",
       "      <th>type</th>\n",
       "      <th>text</th>\n",
       "      <th>parent</th>\n",
       "      <th>id</th>\n",
       "    </tr>\n",
       "  </thead>\n",
       "  <tbody>\n",
       "    <tr>\n",
       "      <th>0</th>\n",
       "      <td>danmaz74</td>\n",
       "      <td>1406974965</td>\n",
       "      <td>comment</td>\n",
       "      <td>&amp;quot;Adapter&amp;quot;?</td>\n",
       "      <td>8124494.0</td>\n",
       "      <td>8124572</td>\n",
       "    </tr>\n",
       "    <tr>\n",
       "      <th>1</th>\n",
       "      <td>danmaz74</td>\n",
       "      <td>1436624566</td>\n",
       "      <td>comment</td>\n",
       "      <td>For the Romans, an often cited reason for the ...</td>\n",
       "      <td>9868765.0</td>\n",
       "      <td>9869850</td>\n",
       "    </tr>\n",
       "    <tr>\n",
       "      <th>2</th>\n",
       "      <td>danmaz74</td>\n",
       "      <td>1338129641</td>\n",
       "      <td>comment</td>\n",
       "      <td>And that's all I need ;)</td>\n",
       "      <td>4030140.0</td>\n",
       "      <td>4030164</td>\n",
       "    </tr>\n",
       "    <tr>\n",
       "      <th>3</th>\n",
       "      <td>danmaz74</td>\n",
       "      <td>1421700122</td>\n",
       "      <td>comment</td>\n",
       "      <td>With a couple of books I reference often, I&amp;#x...</td>\n",
       "      <td>8913265.0</td>\n",
       "      <td>8913948</td>\n",
       "    </tr>\n",
       "    <tr>\n",
       "      <th>4</th>\n",
       "      <td>danmaz74</td>\n",
       "      <td>1352372488</td>\n",
       "      <td>comment</td>\n",
       "      <td>On the other hand, 99.7% of my readers didn't ...</td>\n",
       "      <td>4757225.0</td>\n",
       "      <td>4757283</td>\n",
       "    </tr>\n",
       "  </tbody>\n",
       "</table>\n",
       "</div>"
      ],
      "text/plain": [
       "         by        time     type  \\\n",
       "0  danmaz74  1406974965  comment   \n",
       "1  danmaz74  1436624566  comment   \n",
       "2  danmaz74  1338129641  comment   \n",
       "3  danmaz74  1421700122  comment   \n",
       "4  danmaz74  1352372488  comment   \n",
       "\n",
       "                                                text     parent       id  \n",
       "0                               &quot;Adapter&quot;?  8124494.0  8124572  \n",
       "1  For the Romans, an often cited reason for the ...  9868765.0  9869850  \n",
       "2                           And that's all I need ;)  4030140.0  4030164  \n",
       "3  With a couple of books I reference often, I&#x...  8913265.0  8913948  \n",
       "4  On the other hand, 99.7% of my readers didn't ...  4757225.0  4757283  "
      ]
     },
     "execution_count": 102,
     "metadata": {},
     "output_type": "execute_result"
    }
   ],
   "source": [
    "df_drop.head()"
   ]
  },
  {
   "cell_type": "code",
   "execution_count": 103,
   "metadata": {},
   "outputs": [
    {
     "data": {
      "text/plain": [
       "(1680, 6)"
      ]
     },
     "execution_count": 103,
     "metadata": {},
     "output_type": "execute_result"
    }
   ],
   "source": [
    "df_drop.shape"
   ]
  },
  {
   "cell_type": "code",
   "execution_count": 104,
   "metadata": {},
   "outputs": [
    {
     "data": {
      "text/plain": [
       "by         object\n",
       "time        int64\n",
       "type       object\n",
       "text       object\n",
       "parent    float64\n",
       "id          int64\n",
       "dtype: object"
      ]
     },
     "execution_count": 104,
     "metadata": {},
     "output_type": "execute_result"
    }
   ],
   "source": [
    "df_drop.dtypes"
   ]
  },
  {
   "cell_type": "code",
   "execution_count": 61,
   "metadata": {},
   "outputs": [],
   "source": [
    "#df1 = df_drop.head(100)"
   ]
  },
  {
   "cell_type": "code",
   "execution_count": 105,
   "metadata": {},
   "outputs": [],
   "source": [
    "from vaderSentiment.vaderSentiment import SentimentIntensityAnalyzer\n",
    "sia = SentimentIntensityAnalyzer()"
   ]
  },
  {
   "cell_type": "code",
   "execution_count": 106,
   "metadata": {},
   "outputs": [],
   "source": [
    "df_drop['text']=df_drop['text'].apply(str)"
   ]
  },
  {
   "cell_type": "code",
   "execution_count": 107,
   "metadata": {},
   "outputs": [
    {
     "data": {
      "text/plain": [
       "str"
      ]
     },
     "execution_count": 107,
     "metadata": {},
     "output_type": "execute_result"
    }
   ],
   "source": [
    "type(df_drop['text'][0])"
   ]
  },
  {
   "cell_type": "code",
   "execution_count": 108,
   "metadata": {},
   "outputs": [],
   "source": [
    "s = sia.polarity_scores(df_drop['text'][0])"
   ]
  },
  {
   "cell_type": "code",
   "execution_count": 109,
   "metadata": {},
   "outputs": [
    {
     "data": {
      "text/plain": [
       "{'neg': 0.0, 'neu': 1.0, 'pos': 0.0, 'compound': 0.0}"
      ]
     },
     "execution_count": 109,
     "metadata": {},
     "output_type": "execute_result"
    }
   ],
   "source": [
    "s"
   ]
  },
  {
   "cell_type": "code",
   "execution_count": 110,
   "metadata": {},
   "outputs": [
    {
     "data": {
      "text/plain": [
       "0.0"
      ]
     },
     "execution_count": 110,
     "metadata": {},
     "output_type": "execute_result"
    }
   ],
   "source": [
    "s['neg']"
   ]
  },
  {
   "cell_type": "code",
   "execution_count": 113,
   "metadata": {},
   "outputs": [],
   "source": [
    "#df_drop['neg'][0] = sia.polarity_scores(df_drop['text'][0])['neg']"
   ]
  },
  {
   "cell_type": "code",
   "execution_count": 116,
   "metadata": {},
   "outputs": [
    {
     "data": {
      "text/plain": [
       "{'neg': 0.0, 'neu': 1.0, 'pos': 0.0, 'compound': 0.0}"
      ]
     },
     "execution_count": 116,
     "metadata": {},
     "output_type": "execute_result"
    }
   ],
   "source": [
    "sia.polarity_scores(df_drop['text'][0])"
   ]
  },
  {
   "cell_type": "code",
   "execution_count": 129,
   "metadata": {},
   "outputs": [],
   "source": [
    "df_drop['neg']=np.zeros(df_drop.shape[0])\n",
    "df_drop['pos']=np.zeros(df_drop.shape[0])\n",
    "df_drop['neu']=np.zeros(df_drop.shape[0])"
   ]
  },
  {
   "cell_type": "code",
   "execution_count": 130,
   "metadata": {},
   "outputs": [
    {
     "name": "stderr",
     "output_type": "stream",
     "text": [
      "/Users/karthikmahendra/anaconda3/lib/python3.7/site-packages/ipykernel_launcher.py:3: SettingWithCopyWarning: \n",
      "A value is trying to be set on a copy of a slice from a DataFrame\n",
      "\n",
      "See the caveats in the documentation: http://pandas.pydata.org/pandas-docs/stable/indexing.html#indexing-view-versus-copy\n",
      "  This is separate from the ipykernel package so we can avoid doing imports until\n",
      "/Users/karthikmahendra/anaconda3/lib/python3.7/site-packages/ipykernel_launcher.py:4: SettingWithCopyWarning: \n",
      "A value is trying to be set on a copy of a slice from a DataFrame\n",
      "\n",
      "See the caveats in the documentation: http://pandas.pydata.org/pandas-docs/stable/indexing.html#indexing-view-versus-copy\n",
      "  after removing the cwd from sys.path.\n",
      "/Users/karthikmahendra/anaconda3/lib/python3.7/site-packages/ipykernel_launcher.py:5: SettingWithCopyWarning: \n",
      "A value is trying to be set on a copy of a slice from a DataFrame\n",
      "\n",
      "See the caveats in the documentation: http://pandas.pydata.org/pandas-docs/stable/indexing.html#indexing-view-versus-copy\n",
      "  \"\"\"\n"
     ]
    }
   ],
   "source": [
    "# populate vader sentiments in additional cols\n",
    "for idx,x in df_drop['text'].iteritems():\n",
    "    #print (idx,x)\n",
    "    df_drop['neg'][idx] = sia.polarity_scores(x)['neg']\n",
    "    df_drop['pos'][idx] = sia.polarity_scores(x)['pos']\n",
    "    df_drop['neu'][idx]= sia.polarity_scores(x)['neu']\n"
   ]
  },
  {
   "cell_type": "code",
   "execution_count": 131,
   "metadata": {},
   "outputs": [
    {
     "data": {
      "text/html": [
       "<div>\n",
       "<style scoped>\n",
       "    .dataframe tbody tr th:only-of-type {\n",
       "        vertical-align: middle;\n",
       "    }\n",
       "\n",
       "    .dataframe tbody tr th {\n",
       "        vertical-align: top;\n",
       "    }\n",
       "\n",
       "    .dataframe thead th {\n",
       "        text-align: right;\n",
       "    }\n",
       "</style>\n",
       "<table border=\"1\" class=\"dataframe\">\n",
       "  <thead>\n",
       "    <tr style=\"text-align: right;\">\n",
       "      <th></th>\n",
       "      <th>by</th>\n",
       "      <th>time</th>\n",
       "      <th>type</th>\n",
       "      <th>text</th>\n",
       "      <th>parent</th>\n",
       "      <th>id</th>\n",
       "      <th>neg</th>\n",
       "      <th>pos</th>\n",
       "      <th>neu</th>\n",
       "    </tr>\n",
       "  </thead>\n",
       "  <tbody>\n",
       "    <tr>\n",
       "      <th>0</th>\n",
       "      <td>danmaz74</td>\n",
       "      <td>1406974965</td>\n",
       "      <td>comment</td>\n",
       "      <td>&amp;quot;Adapter&amp;quot;?</td>\n",
       "      <td>8124494.0</td>\n",
       "      <td>8124572</td>\n",
       "      <td>0.000</td>\n",
       "      <td>0.000</td>\n",
       "      <td>1.000</td>\n",
       "    </tr>\n",
       "    <tr>\n",
       "      <th>1</th>\n",
       "      <td>danmaz74</td>\n",
       "      <td>1436624566</td>\n",
       "      <td>comment</td>\n",
       "      <td>For the Romans, an often cited reason for the ...</td>\n",
       "      <td>9868765.0</td>\n",
       "      <td>9869850</td>\n",
       "      <td>0.080</td>\n",
       "      <td>0.000</td>\n",
       "      <td>0.920</td>\n",
       "    </tr>\n",
       "    <tr>\n",
       "      <th>2</th>\n",
       "      <td>danmaz74</td>\n",
       "      <td>1338129641</td>\n",
       "      <td>comment</td>\n",
       "      <td>And that's all I need ;)</td>\n",
       "      <td>4030140.0</td>\n",
       "      <td>4030164</td>\n",
       "      <td>0.000</td>\n",
       "      <td>0.322</td>\n",
       "      <td>0.678</td>\n",
       "    </tr>\n",
       "    <tr>\n",
       "      <th>3</th>\n",
       "      <td>danmaz74</td>\n",
       "      <td>1421700122</td>\n",
       "      <td>comment</td>\n",
       "      <td>With a couple of books I reference often, I&amp;#x...</td>\n",
       "      <td>8913265.0</td>\n",
       "      <td>8913948</td>\n",
       "      <td>0.000</td>\n",
       "      <td>0.087</td>\n",
       "      <td>0.913</td>\n",
       "    </tr>\n",
       "    <tr>\n",
       "      <th>4</th>\n",
       "      <td>danmaz74</td>\n",
       "      <td>1352372488</td>\n",
       "      <td>comment</td>\n",
       "      <td>On the other hand, 99.7% of my readers didn't ...</td>\n",
       "      <td>4757225.0</td>\n",
       "      <td>4757283</td>\n",
       "      <td>0.053</td>\n",
       "      <td>0.138</td>\n",
       "      <td>0.810</td>\n",
       "    </tr>\n",
       "  </tbody>\n",
       "</table>\n",
       "</div>"
      ],
      "text/plain": [
       "         by        time     type  \\\n",
       "0  danmaz74  1406974965  comment   \n",
       "1  danmaz74  1436624566  comment   \n",
       "2  danmaz74  1338129641  comment   \n",
       "3  danmaz74  1421700122  comment   \n",
       "4  danmaz74  1352372488  comment   \n",
       "\n",
       "                                                text     parent       id  \\\n",
       "0                               &quot;Adapter&quot;?  8124494.0  8124572   \n",
       "1  For the Romans, an often cited reason for the ...  9868765.0  9869850   \n",
       "2                           And that's all I need ;)  4030140.0  4030164   \n",
       "3  With a couple of books I reference often, I&#x...  8913265.0  8913948   \n",
       "4  On the other hand, 99.7% of my readers didn't ...  4757225.0  4757283   \n",
       "\n",
       "     neg    pos    neu  \n",
       "0  0.000  0.000  1.000  \n",
       "1  0.080  0.000  0.920  \n",
       "2  0.000  0.322  0.678  \n",
       "3  0.000  0.087  0.913  \n",
       "4  0.053  0.138  0.810  "
      ]
     },
     "execution_count": 131,
     "metadata": {},
     "output_type": "execute_result"
    }
   ],
   "source": [
    "df_drop.head()"
   ]
  },
  {
   "cell_type": "code",
   "execution_count": 161,
   "metadata": {},
   "outputs": [],
   "source": [
    "# Set threshold of .5 for filtering positive and negative comments. drop comments with value 1 \n",
    "\n",
    "df_neg = df_drop[(df_drop['neg']> 0.5) & (df_drop['neg'] !=1)]\n",
    "df_pos = df_drop[(df_drop['pos']> 0.5) & (df_drop['pos'] !=1)]"
   ]
  },
  {
   "cell_type": "code",
   "execution_count": 162,
   "metadata": {},
   "outputs": [],
   "source": [
    "df_neg = df_neg.sort_values(['neg'],ascending=False)\n",
    "df_pos =df_pos.sort_values(['pos'],ascending=False)"
   ]
  },
  {
   "cell_type": "code",
   "execution_count": 163,
   "metadata": {},
   "outputs": [
    {
     "data": {
      "text/html": [
       "<div>\n",
       "<style scoped>\n",
       "    .dataframe tbody tr th:only-of-type {\n",
       "        vertical-align: middle;\n",
       "    }\n",
       "\n",
       "    .dataframe tbody tr th {\n",
       "        vertical-align: top;\n",
       "    }\n",
       "\n",
       "    .dataframe thead th {\n",
       "        text-align: right;\n",
       "    }\n",
       "</style>\n",
       "<table border=\"1\" class=\"dataframe\">\n",
       "  <thead>\n",
       "    <tr style=\"text-align: right;\">\n",
       "      <th></th>\n",
       "      <th>by</th>\n",
       "      <th>time</th>\n",
       "      <th>type</th>\n",
       "      <th>text</th>\n",
       "      <th>parent</th>\n",
       "      <th>id</th>\n",
       "      <th>neg</th>\n",
       "      <th>pos</th>\n",
       "      <th>neu</th>\n",
       "    </tr>\n",
       "  </thead>\n",
       "  <tbody>\n",
       "    <tr>\n",
       "      <th>1345</th>\n",
       "      <td>danmaz74</td>\n",
       "      <td>1375567037</td>\n",
       "      <td>comment</td>\n",
       "      <td>I&amp;#x27;m disgusted, this is such a rigged game.</td>\n",
       "      <td>6152872.0</td>\n",
       "      <td>6153574</td>\n",
       "      <td>0.541</td>\n",
       "      <td>0.0</td>\n",
       "      <td>0.459</td>\n",
       "    </tr>\n",
       "    <tr>\n",
       "      <th>434</th>\n",
       "      <td>danmaz74</td>\n",
       "      <td>1431625440</td>\n",
       "      <td>comment</td>\n",
       "      <td>They lost us...</td>\n",
       "      <td>9546379.0</td>\n",
       "      <td>9546430</td>\n",
       "      <td>0.535</td>\n",
       "      <td>0.0</td>\n",
       "      <td>0.465</td>\n",
       "    </tr>\n",
       "  </tbody>\n",
       "</table>\n",
       "</div>"
      ],
      "text/plain": [
       "            by        time     type  \\\n",
       "1345  danmaz74  1375567037  comment   \n",
       "434   danmaz74  1431625440  comment   \n",
       "\n",
       "                                                 text     parent       id  \\\n",
       "1345  I&#x27;m disgusted, this is such a rigged game.  6152872.0  6153574   \n",
       "434                                   They lost us...  9546379.0  9546430   \n",
       "\n",
       "        neg  pos    neu  \n",
       "1345  0.541  0.0  0.459  \n",
       "434   0.535  0.0  0.465  "
      ]
     },
     "execution_count": 163,
     "metadata": {},
     "output_type": "execute_result"
    }
   ],
   "source": [
    "# top negative comments\n",
    "df_neg.head()"
   ]
  },
  {
   "cell_type": "code",
   "execution_count": 164,
   "metadata": {},
   "outputs": [
    {
     "data": {
      "text/html": [
       "<div>\n",
       "<style scoped>\n",
       "    .dataframe tbody tr th:only-of-type {\n",
       "        vertical-align: middle;\n",
       "    }\n",
       "\n",
       "    .dataframe tbody tr th {\n",
       "        vertical-align: top;\n",
       "    }\n",
       "\n",
       "    .dataframe thead th {\n",
       "        text-align: right;\n",
       "    }\n",
       "</style>\n",
       "<table border=\"1\" class=\"dataframe\">\n",
       "  <thead>\n",
       "    <tr style=\"text-align: right;\">\n",
       "      <th></th>\n",
       "      <th>by</th>\n",
       "      <th>time</th>\n",
       "      <th>type</th>\n",
       "      <th>text</th>\n",
       "      <th>parent</th>\n",
       "      <th>id</th>\n",
       "      <th>neg</th>\n",
       "      <th>pos</th>\n",
       "      <th>neu</th>\n",
       "    </tr>\n",
       "  </thead>\n",
       "  <tbody>\n",
       "    <tr>\n",
       "      <th>414</th>\n",
       "      <td>danmaz74</td>\n",
       "      <td>1441294856</td>\n",
       "      <td>comment</td>\n",
       "      <td>Thanks, great answer!</td>\n",
       "      <td>10165509.0</td>\n",
       "      <td>10165541</td>\n",
       "      <td>0.0</td>\n",
       "      <td>0.879</td>\n",
       "      <td>0.121</td>\n",
       "    </tr>\n",
       "    <tr>\n",
       "      <th>699</th>\n",
       "      <td>danmaz74</td>\n",
       "      <td>1318260807</td>\n",
       "      <td>comment</td>\n",
       "      <td>Indeed... good luck!</td>\n",
       "      <td>3094081.0</td>\n",
       "      <td>3094183</td>\n",
       "      <td>0.0</td>\n",
       "      <td>0.861</td>\n",
       "      <td>0.139</td>\n",
       "    </tr>\n",
       "    <tr>\n",
       "      <th>1244</th>\n",
       "      <td>danmaz74</td>\n",
       "      <td>1379140076</td>\n",
       "      <td>comment</td>\n",
       "      <td>Yes - yes - camera button, please!!</td>\n",
       "      <td>6384270.0</td>\n",
       "      <td>6384874</td>\n",
       "      <td>0.0</td>\n",
       "      <td>0.806</td>\n",
       "      <td>0.194</td>\n",
       "    </tr>\n",
       "    <tr>\n",
       "      <th>14</th>\n",
       "      <td>danmaz74</td>\n",
       "      <td>1438182885</td>\n",
       "      <td>comment</td>\n",
       "      <td>You&amp;#x27;re welcome!</td>\n",
       "      <td>9969067.0</td>\n",
       "      <td>9969154</td>\n",
       "      <td>0.0</td>\n",
       "      <td>0.767</td>\n",
       "      <td>0.233</td>\n",
       "    </tr>\n",
       "    <tr>\n",
       "      <th>510</th>\n",
       "      <td>danmaz74</td>\n",
       "      <td>1368988078</td>\n",
       "      <td>comment</td>\n",
       "      <td>Exactly :)</td>\n",
       "      <td>5733149.0</td>\n",
       "      <td>5733876</td>\n",
       "      <td>0.0</td>\n",
       "      <td>0.750</td>\n",
       "      <td>0.250</td>\n",
       "    </tr>\n",
       "    <tr>\n",
       "      <th>589</th>\n",
       "      <td>danmaz74</td>\n",
       "      <td>1320396226</td>\n",
       "      <td>comment</td>\n",
       "      <td>Good luck with it then :)</td>\n",
       "      <td>3193271.0</td>\n",
       "      <td>3195378</td>\n",
       "      <td>0.0</td>\n",
       "      <td>0.748</td>\n",
       "      <td>0.252</td>\n",
       "    </tr>\n",
       "    <tr>\n",
       "      <th>1218</th>\n",
       "      <td>danmaz74</td>\n",
       "      <td>1352378421</td>\n",
       "      <td>comment</td>\n",
       "      <td>Ok, I'll look for a solution. Thanks!</td>\n",
       "      <td>4757386.0</td>\n",
       "      <td>4757574</td>\n",
       "      <td>0.0</td>\n",
       "      <td>0.719</td>\n",
       "      <td>0.281</td>\n",
       "    </tr>\n",
       "    <tr>\n",
       "      <th>963</th>\n",
       "      <td>danmaz74</td>\n",
       "      <td>1429266929</td>\n",
       "      <td>comment</td>\n",
       "      <td>Good job David ;)</td>\n",
       "      <td>9391828.0</td>\n",
       "      <td>9393355</td>\n",
       "      <td>0.0</td>\n",
       "      <td>0.706</td>\n",
       "      <td>0.294</td>\n",
       "    </tr>\n",
       "    <tr>\n",
       "      <th>1078</th>\n",
       "      <td>danmaz74</td>\n",
       "      <td>1418308852</td>\n",
       "      <td>comment</td>\n",
       "      <td>Font awesome has spinners... :)</td>\n",
       "      <td>8734901.0</td>\n",
       "      <td>8734915</td>\n",
       "      <td>0.0</td>\n",
       "      <td>0.703</td>\n",
       "      <td>0.297</td>\n",
       "    </tr>\n",
       "    <tr>\n",
       "      <th>1651</th>\n",
       "      <td>danmaz74</td>\n",
       "      <td>1338135787</td>\n",
       "      <td>comment</td>\n",
       "      <td>Cool - so for FF there is already a solution :)</td>\n",
       "      <td>4030324.0</td>\n",
       "      <td>4030348</td>\n",
       "      <td>0.0</td>\n",
       "      <td>0.695</td>\n",
       "      <td>0.305</td>\n",
       "    </tr>\n",
       "  </tbody>\n",
       "</table>\n",
       "</div>"
      ],
      "text/plain": [
       "            by        time     type  \\\n",
       "414   danmaz74  1441294856  comment   \n",
       "699   danmaz74  1318260807  comment   \n",
       "1244  danmaz74  1379140076  comment   \n",
       "14    danmaz74  1438182885  comment   \n",
       "510   danmaz74  1368988078  comment   \n",
       "589   danmaz74  1320396226  comment   \n",
       "1218  danmaz74  1352378421  comment   \n",
       "963   danmaz74  1429266929  comment   \n",
       "1078  danmaz74  1418308852  comment   \n",
       "1651  danmaz74  1338135787  comment   \n",
       "\n",
       "                                                 text      parent        id  \\\n",
       "414                             Thanks, great answer!  10165509.0  10165541   \n",
       "699                              Indeed... good luck!   3094081.0   3094183   \n",
       "1244              Yes - yes - camera button, please!!   6384270.0   6384874   \n",
       "14                               You&#x27;re welcome!   9969067.0   9969154   \n",
       "510                                        Exactly :)   5733149.0   5733876   \n",
       "589                         Good luck with it then :)   3193271.0   3195378   \n",
       "1218            Ok, I'll look for a solution. Thanks!   4757386.0   4757574   \n",
       "963                                 Good job David ;)   9391828.0   9393355   \n",
       "1078                  Font awesome has spinners... :)   8734901.0   8734915   \n",
       "1651  Cool - so for FF there is already a solution :)   4030324.0   4030348   \n",
       "\n",
       "      neg    pos    neu  \n",
       "414   0.0  0.879  0.121  \n",
       "699   0.0  0.861  0.139  \n",
       "1244  0.0  0.806  0.194  \n",
       "14    0.0  0.767  0.233  \n",
       "510   0.0  0.750  0.250  \n",
       "589   0.0  0.748  0.252  \n",
       "1218  0.0  0.719  0.281  \n",
       "963   0.0  0.706  0.294  \n",
       "1078  0.0  0.703  0.297  \n",
       "1651  0.0  0.695  0.305  "
      ]
     },
     "execution_count": 164,
     "metadata": {},
     "output_type": "execute_result"
    }
   ],
   "source": [
    "# top positive comments\n",
    "df_pos.head(10)"
   ]
  },
  {
   "cell_type": "code",
   "execution_count": null,
   "metadata": {},
   "outputs": [],
   "source": []
  }
 ],
 "metadata": {
  "kernelspec": {
   "display_name": "Python 3",
   "language": "python",
   "name": "python3"
  },
  "language_info": {
   "codemirror_mode": {
    "name": "ipython",
    "version": 3
   },
   "file_extension": ".py",
   "mimetype": "text/x-python",
   "name": "python",
   "nbconvert_exporter": "python",
   "pygments_lexer": "ipython3",
   "version": "3.7.3"
  }
 },
 "nbformat": 4,
 "nbformat_minor": 2
}
