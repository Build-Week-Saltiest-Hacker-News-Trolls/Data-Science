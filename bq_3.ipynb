{
 "cells": [
  {
   "cell_type": "code",
   "execution_count": 57,
   "metadata": {},
   "outputs": [],
   "source": [
    "# set env variable to json credential file of google cloud\n",
    "\n",
    "import os\n",
    "os.environ['GOOGLE_APPLICATION_CREDENTIALS'] = '/Users/karthikmahendra/Desktop/Salty/salty-trolls-cce24104ff9f.json'"
   ]
  },
  {
   "cell_type": "code",
   "execution_count": 58,
   "metadata": {},
   "outputs": [],
   "source": [
    "from google.cloud import bigquery\n",
    "import time\n",
    "import pandas as pd\n",
    "import numpy as np"
   ]
  },
  {
   "cell_type": "code",
   "execution_count": 59,
   "metadata": {},
   "outputs": [],
   "source": [
    "# setup client\n",
    "bq_client = bigquery.Client() "
   ]
  },
  {
   "cell_type": "code",
   "execution_count": 60,
   "metadata": {},
   "outputs": [],
   "source": [
    "#Query for pulling data of a username\n",
    "QUERY = '''SELECT  * \n",
    "        FROM `bigquery-public-data.hacker_news.full_201510`\n",
    "        WHERE `bigquery-public-data.hacker_news.full_201510`.by = \"danmaz74\"\n",
    "        '''"
   ]
  },
  {
   "cell_type": "code",
   "execution_count": 61,
   "metadata": {},
   "outputs": [],
   "source": [
    "df = bq_client.query(QUERY).to_dataframe()"
   ]
  },
  {
   "cell_type": "code",
   "execution_count": 62,
   "metadata": {},
   "outputs": [
    {
     "data": {
      "text/plain": [
       "(1680, 13)"
      ]
     },
     "execution_count": 62,
     "metadata": {},
     "output_type": "execute_result"
    }
   ],
   "source": [
    "df.shape"
   ]
  },
  {
   "cell_type": "code",
   "execution_count": 63,
   "metadata": {},
   "outputs": [
    {
     "data": {
      "text/html": [
       "<div>\n",
       "<style scoped>\n",
       "    .dataframe tbody tr th:only-of-type {\n",
       "        vertical-align: middle;\n",
       "    }\n",
       "\n",
       "    .dataframe tbody tr th {\n",
       "        vertical-align: top;\n",
       "    }\n",
       "\n",
       "    .dataframe thead th {\n",
       "        text-align: right;\n",
       "    }\n",
       "</style>\n",
       "<table border=\"1\" class=\"dataframe\">\n",
       "  <thead>\n",
       "    <tr style=\"text-align: right;\">\n",
       "      <th></th>\n",
       "      <th>by</th>\n",
       "      <th>score</th>\n",
       "      <th>time</th>\n",
       "      <th>title</th>\n",
       "      <th>type</th>\n",
       "      <th>url</th>\n",
       "      <th>text</th>\n",
       "      <th>parent</th>\n",
       "      <th>deleted</th>\n",
       "      <th>dead</th>\n",
       "      <th>descendants</th>\n",
       "      <th>id</th>\n",
       "      <th>ranking</th>\n",
       "    </tr>\n",
       "  </thead>\n",
       "  <tbody>\n",
       "    <tr>\n",
       "      <th>0</th>\n",
       "      <td>danmaz74</td>\n",
       "      <td>NaN</td>\n",
       "      <td>1368003409</td>\n",
       "      <td>None</td>\n",
       "      <td>comment</td>\n",
       "      <td>None</td>\n",
       "      <td>\"HackingItalia\" has much better chances of suc...</td>\n",
       "      <td>5672999.0</td>\n",
       "      <td>None</td>\n",
       "      <td>None</td>\n",
       "      <td>NaN</td>\n",
       "      <td>5673213</td>\n",
       "      <td>None</td>\n",
       "    </tr>\n",
       "    <tr>\n",
       "      <th>1</th>\n",
       "      <td>danmaz74</td>\n",
       "      <td>NaN</td>\n",
       "      <td>1362914038</td>\n",
       "      <td>None</td>\n",
       "      <td>comment</td>\n",
       "      <td>None</td>\n",
       "      <td>The (not so) funny thing is that this has been...</td>\n",
       "      <td>5350893.0</td>\n",
       "      <td>None</td>\n",
       "      <td>None</td>\n",
       "      <td>NaN</td>\n",
       "      <td>5351456</td>\n",
       "      <td>None</td>\n",
       "    </tr>\n",
       "    <tr>\n",
       "      <th>2</th>\n",
       "      <td>danmaz74</td>\n",
       "      <td>NaN</td>\n",
       "      <td>1380696100</td>\n",
       "      <td>None</td>\n",
       "      <td>comment</td>\n",
       "      <td>None</td>\n",
       "      <td>Absolutely. There is also no clue that the pag...</td>\n",
       "      <td>6479777.0</td>\n",
       "      <td>None</td>\n",
       "      <td>None</td>\n",
       "      <td>NaN</td>\n",
       "      <td>6481042</td>\n",
       "      <td>None</td>\n",
       "    </tr>\n",
       "    <tr>\n",
       "      <th>3</th>\n",
       "      <td>danmaz74</td>\n",
       "      <td>NaN</td>\n",
       "      <td>1370794029</td>\n",
       "      <td>None</td>\n",
       "      <td>comment</td>\n",
       "      <td>None</td>\n",
       "      <td>Does anybody have ideas about how a small fore...</td>\n",
       "      <td>5849087.0</td>\n",
       "      <td>None</td>\n",
       "      <td>None</td>\n",
       "      <td>NaN</td>\n",
       "      <td>5849372</td>\n",
       "      <td>None</td>\n",
       "    </tr>\n",
       "    <tr>\n",
       "      <th>4</th>\n",
       "      <td>danmaz74</td>\n",
       "      <td>NaN</td>\n",
       "      <td>1383740372</td>\n",
       "      <td>None</td>\n",
       "      <td>comment</td>\n",
       "      <td>None</td>\n",
       "      <td>Great, I&amp;#x27;ll try your service instead of d...</td>\n",
       "      <td>6681977.0</td>\n",
       "      <td>None</td>\n",
       "      <td>None</td>\n",
       "      <td>NaN</td>\n",
       "      <td>6682294</td>\n",
       "      <td>None</td>\n",
       "    </tr>\n",
       "  </tbody>\n",
       "</table>\n",
       "</div>"
      ],
      "text/plain": [
       "         by  score        time title     type   url  \\\n",
       "0  danmaz74    NaN  1368003409  None  comment  None   \n",
       "1  danmaz74    NaN  1362914038  None  comment  None   \n",
       "2  danmaz74    NaN  1380696100  None  comment  None   \n",
       "3  danmaz74    NaN  1370794029  None  comment  None   \n",
       "4  danmaz74    NaN  1383740372  None  comment  None   \n",
       "\n",
       "                                                text     parent deleted  dead  \\\n",
       "0  \"HackingItalia\" has much better chances of suc...  5672999.0    None  None   \n",
       "1  The (not so) funny thing is that this has been...  5350893.0    None  None   \n",
       "2  Absolutely. There is also no clue that the pag...  6479777.0    None  None   \n",
       "3  Does anybody have ideas about how a small fore...  5849087.0    None  None   \n",
       "4  Great, I&#x27;ll try your service instead of d...  6681977.0    None  None   \n",
       "\n",
       "   descendants       id ranking  \n",
       "0          NaN  5673213    None  \n",
       "1          NaN  5351456    None  \n",
       "2          NaN  6481042    None  \n",
       "3          NaN  5849372    None  \n",
       "4          NaN  6682294    None  "
      ]
     },
     "execution_count": 63,
     "metadata": {},
     "output_type": "execute_result"
    }
   ],
   "source": [
    "df.head()"
   ]
  },
  {
   "cell_type": "code",
   "execution_count": 17,
   "metadata": {},
   "outputs": [],
   "source": [
    "# import html,re"
   ]
  },
  {
   "cell_type": "code",
   "execution_count": 44,
   "metadata": {},
   "outputs": [],
   "source": [
    "# def decoder(text):\n",
    "#     \"\"\"decode HTML text.\"\"\"\n",
    "#     unescaped = html.unescape(text)\n",
    "#     return unescaped\n",
    "\n",
    "\n",
    "# def kill_html(text):\n",
    "#     \"\"\"Remove html flags.\"\"\"\n",
    "#     cleanr = re.compile('<.*?>')\n",
    "#     cleantext = re.sub(cleanr, ' ', text)\n",
    "#     return cleantext\n",
    "\n",
    "\n",
    "# def kill_url(text):\n",
    "#     \"\"\"Remove URL with regex\"\"\"\n",
    "#     return ''.join(re.sub(r\"http\\S+\", \"\", text))\n",
    "\n",
    "\n",
    "\n"
   ]
  },
  {
   "cell_type": "code",
   "execution_count": 51,
   "metadata": {},
   "outputs": [],
   "source": [
    "# #df['cleaned_comment'] = np.zeros(df.shape[0])\n",
    "# kill_url(kill_html(decoder()"
   ]
  },
  {
   "cell_type": "code",
   "execution_count": 66,
   "metadata": {},
   "outputs": [],
   "source": [
    "# to get rid of the weird characters\n",
    "import html\n",
    "df['text'] = df['text'].apply(str)"
   ]
  },
  {
   "cell_type": "code",
   "execution_count": 67,
   "metadata": {},
   "outputs": [],
   "source": [
    "df['text'] = df['text'].apply(lambda x: html.unescape(x))"
   ]
  },
  {
   "cell_type": "code",
   "execution_count": 107,
   "metadata": {},
   "outputs": [],
   "source": [
    "import re\n",
    "def remove_html_tags(text):\n",
    "   \"\"\"Remove html tags from a string\"\"\"\n",
    "   clean = re.compile('<.*?>')\n",
    "   return re.sub(clean, '', text)"
   ]
  },
  {
   "cell_type": "code",
   "execution_count": 108,
   "metadata": {},
   "outputs": [],
   "source": [
    "df['text'] = df['text'].apply(lambda x: remove_html_tags(x))"
   ]
  },
  {
   "cell_type": "code",
   "execution_count": 109,
   "metadata": {},
   "outputs": [
    {
     "data": {
      "text/html": [
       "<div>\n",
       "<style scoped>\n",
       "    .dataframe tbody tr th:only-of-type {\n",
       "        vertical-align: middle;\n",
       "    }\n",
       "\n",
       "    .dataframe tbody tr th {\n",
       "        vertical-align: top;\n",
       "    }\n",
       "\n",
       "    .dataframe thead th {\n",
       "        text-align: right;\n",
       "    }\n",
       "</style>\n",
       "<table border=\"1\" class=\"dataframe\">\n",
       "  <thead>\n",
       "    <tr style=\"text-align: right;\">\n",
       "      <th></th>\n",
       "      <th>by</th>\n",
       "      <th>score</th>\n",
       "      <th>time</th>\n",
       "      <th>title</th>\n",
       "      <th>type</th>\n",
       "      <th>url</th>\n",
       "      <th>text</th>\n",
       "      <th>parent</th>\n",
       "      <th>deleted</th>\n",
       "      <th>dead</th>\n",
       "      <th>descendants</th>\n",
       "      <th>id</th>\n",
       "      <th>ranking</th>\n",
       "    </tr>\n",
       "  </thead>\n",
       "  <tbody>\n",
       "    <tr>\n",
       "      <th>0</th>\n",
       "      <td>danmaz74</td>\n",
       "      <td>NaN</td>\n",
       "      <td>1368003409</td>\n",
       "      <td>None</td>\n",
       "      <td>comment</td>\n",
       "      <td>None</td>\n",
       "      <td>\"HackingItalia\" has much better chances of suc...</td>\n",
       "      <td>5672999.0</td>\n",
       "      <td>None</td>\n",
       "      <td>None</td>\n",
       "      <td>NaN</td>\n",
       "      <td>5673213</td>\n",
       "      <td>None</td>\n",
       "    </tr>\n",
       "    <tr>\n",
       "      <th>1</th>\n",
       "      <td>danmaz74</td>\n",
       "      <td>NaN</td>\n",
       "      <td>1362914038</td>\n",
       "      <td>None</td>\n",
       "      <td>comment</td>\n",
       "      <td>None</td>\n",
       "      <td>The (not so) funny thing is that this has been...</td>\n",
       "      <td>5350893.0</td>\n",
       "      <td>None</td>\n",
       "      <td>None</td>\n",
       "      <td>NaN</td>\n",
       "      <td>5351456</td>\n",
       "      <td>None</td>\n",
       "    </tr>\n",
       "    <tr>\n",
       "      <th>2</th>\n",
       "      <td>danmaz74</td>\n",
       "      <td>NaN</td>\n",
       "      <td>1380696100</td>\n",
       "      <td>None</td>\n",
       "      <td>comment</td>\n",
       "      <td>None</td>\n",
       "      <td>Absolutely. There is also no clue that the pag...</td>\n",
       "      <td>6479777.0</td>\n",
       "      <td>None</td>\n",
       "      <td>None</td>\n",
       "      <td>NaN</td>\n",
       "      <td>6481042</td>\n",
       "      <td>None</td>\n",
       "    </tr>\n",
       "    <tr>\n",
       "      <th>3</th>\n",
       "      <td>danmaz74</td>\n",
       "      <td>NaN</td>\n",
       "      <td>1370794029</td>\n",
       "      <td>None</td>\n",
       "      <td>comment</td>\n",
       "      <td>None</td>\n",
       "      <td>Does anybody have ideas about how a small fore...</td>\n",
       "      <td>5849087.0</td>\n",
       "      <td>None</td>\n",
       "      <td>None</td>\n",
       "      <td>NaN</td>\n",
       "      <td>5849372</td>\n",
       "      <td>None</td>\n",
       "    </tr>\n",
       "    <tr>\n",
       "      <th>4</th>\n",
       "      <td>danmaz74</td>\n",
       "      <td>NaN</td>\n",
       "      <td>1383740372</td>\n",
       "      <td>None</td>\n",
       "      <td>comment</td>\n",
       "      <td>None</td>\n",
       "      <td>Great, I'll try your service instead of deskto...</td>\n",
       "      <td>6681977.0</td>\n",
       "      <td>None</td>\n",
       "      <td>None</td>\n",
       "      <td>NaN</td>\n",
       "      <td>6682294</td>\n",
       "      <td>None</td>\n",
       "    </tr>\n",
       "  </tbody>\n",
       "</table>\n",
       "</div>"
      ],
      "text/plain": [
       "         by  score        time title     type   url  \\\n",
       "0  danmaz74    NaN  1368003409  None  comment  None   \n",
       "1  danmaz74    NaN  1362914038  None  comment  None   \n",
       "2  danmaz74    NaN  1380696100  None  comment  None   \n",
       "3  danmaz74    NaN  1370794029  None  comment  None   \n",
       "4  danmaz74    NaN  1383740372  None  comment  None   \n",
       "\n",
       "                                                text     parent deleted  dead  \\\n",
       "0  \"HackingItalia\" has much better chances of suc...  5672999.0    None  None   \n",
       "1  The (not so) funny thing is that this has been...  5350893.0    None  None   \n",
       "2  Absolutely. There is also no clue that the pag...  6479777.0    None  None   \n",
       "3  Does anybody have ideas about how a small fore...  5849087.0    None  None   \n",
       "4  Great, I'll try your service instead of deskto...  6681977.0    None  None   \n",
       "\n",
       "   descendants       id ranking  \n",
       "0          NaN  5673213    None  \n",
       "1          NaN  5351456    None  \n",
       "2          NaN  6481042    None  \n",
       "3          NaN  5849372    None  \n",
       "4          NaN  6682294    None  "
      ]
     },
     "execution_count": 109,
     "metadata": {},
     "output_type": "execute_result"
    }
   ],
   "source": [
    "df.head()"
   ]
  },
  {
   "cell_type": "code",
   "execution_count": 110,
   "metadata": {},
   "outputs": [],
   "source": [
    "# job_config = bigquery.QueryJobConfig()\n",
    "# now=time.time()\n",
    "# query_job=bq_client.query(QUERY,location='US')\n",
    "# res=query_job.result()\n",
    "# print('query took:',round(time.time()-now,2),'s')"
   ]
  },
  {
   "cell_type": "code",
   "execution_count": 111,
   "metadata": {},
   "outputs": [],
   "source": [
    "# now=time.time()\n",
    "# destination_uri = \"gs://karthikkm028-ds/*hacker.csv\"\n",
    "# dataset_ref = bq_client.dataset(\"hacker_news\", project='bigquery-public-data')\n",
    "# table_ref = dataset_ref.table(\"full_201510\")\n",
    "\n",
    "# extract_job = bq_client.extract_table(\n",
    "#     table_ref,\n",
    "#     destination_uri)\n",
    "# extract_job.result()  # Waits for job to complete\n",
    "# print('create table and write to GCS took:',round(time.time()-now,2),'s')"
   ]
  },
  {
   "cell_type": "code",
   "execution_count": 112,
   "metadata": {},
   "outputs": [],
   "source": [
    "# gcs = gcsfs.GCSFileSystem(project='bigquery-public-data') \n",
    "# files=gcs.glob(destination_uri)\n",
    "# df = pd.concat([pd.read_csv('gs://'+f) for f in files], ignore_index=True)\n",
    "# print('read csv took:',round(time.time()-now,2),'s')"
   ]
  },
  {
   "cell_type": "code",
   "execution_count": 113,
   "metadata": {},
   "outputs": [],
   "source": [
    "\n",
    "df_drop = df.drop(columns= ['score','title','url','deleted','dead','descendants','ranking'])"
   ]
  },
  {
   "cell_type": "code",
   "execution_count": 114,
   "metadata": {},
   "outputs": [
    {
     "data": {
      "text/html": [
       "<div>\n",
       "<style scoped>\n",
       "    .dataframe tbody tr th:only-of-type {\n",
       "        vertical-align: middle;\n",
       "    }\n",
       "\n",
       "    .dataframe tbody tr th {\n",
       "        vertical-align: top;\n",
       "    }\n",
       "\n",
       "    .dataframe thead th {\n",
       "        text-align: right;\n",
       "    }\n",
       "</style>\n",
       "<table border=\"1\" class=\"dataframe\">\n",
       "  <thead>\n",
       "    <tr style=\"text-align: right;\">\n",
       "      <th></th>\n",
       "      <th>by</th>\n",
       "      <th>time</th>\n",
       "      <th>type</th>\n",
       "      <th>text</th>\n",
       "      <th>parent</th>\n",
       "      <th>id</th>\n",
       "    </tr>\n",
       "  </thead>\n",
       "  <tbody>\n",
       "    <tr>\n",
       "      <th>0</th>\n",
       "      <td>danmaz74</td>\n",
       "      <td>1368003409</td>\n",
       "      <td>comment</td>\n",
       "      <td>\"HackingItalia\" has much better chances of suc...</td>\n",
       "      <td>5672999.0</td>\n",
       "      <td>5673213</td>\n",
       "    </tr>\n",
       "    <tr>\n",
       "      <th>1</th>\n",
       "      <td>danmaz74</td>\n",
       "      <td>1362914038</td>\n",
       "      <td>comment</td>\n",
       "      <td>The (not so) funny thing is that this has been...</td>\n",
       "      <td>5350893.0</td>\n",
       "      <td>5351456</td>\n",
       "    </tr>\n",
       "    <tr>\n",
       "      <th>2</th>\n",
       "      <td>danmaz74</td>\n",
       "      <td>1380696100</td>\n",
       "      <td>comment</td>\n",
       "      <td>Absolutely. There is also no clue that the pag...</td>\n",
       "      <td>6479777.0</td>\n",
       "      <td>6481042</td>\n",
       "    </tr>\n",
       "    <tr>\n",
       "      <th>3</th>\n",
       "      <td>danmaz74</td>\n",
       "      <td>1370794029</td>\n",
       "      <td>comment</td>\n",
       "      <td>Does anybody have ideas about how a small fore...</td>\n",
       "      <td>5849087.0</td>\n",
       "      <td>5849372</td>\n",
       "    </tr>\n",
       "    <tr>\n",
       "      <th>4</th>\n",
       "      <td>danmaz74</td>\n",
       "      <td>1383740372</td>\n",
       "      <td>comment</td>\n",
       "      <td>Great, I'll try your service instead of deskto...</td>\n",
       "      <td>6681977.0</td>\n",
       "      <td>6682294</td>\n",
       "    </tr>\n",
       "  </tbody>\n",
       "</table>\n",
       "</div>"
      ],
      "text/plain": [
       "         by        time     type  \\\n",
       "0  danmaz74  1368003409  comment   \n",
       "1  danmaz74  1362914038  comment   \n",
       "2  danmaz74  1380696100  comment   \n",
       "3  danmaz74  1370794029  comment   \n",
       "4  danmaz74  1383740372  comment   \n",
       "\n",
       "                                                text     parent       id  \n",
       "0  \"HackingItalia\" has much better chances of suc...  5672999.0  5673213  \n",
       "1  The (not so) funny thing is that this has been...  5350893.0  5351456  \n",
       "2  Absolutely. There is also no clue that the pag...  6479777.0  6481042  \n",
       "3  Does anybody have ideas about how a small fore...  5849087.0  5849372  \n",
       "4  Great, I'll try your service instead of deskto...  6681977.0  6682294  "
      ]
     },
     "execution_count": 114,
     "metadata": {},
     "output_type": "execute_result"
    }
   ],
   "source": [
    "df_drop.head()"
   ]
  },
  {
   "cell_type": "code",
   "execution_count": 115,
   "metadata": {},
   "outputs": [
    {
     "data": {
      "text/plain": [
       "(1680, 6)"
      ]
     },
     "execution_count": 115,
     "metadata": {},
     "output_type": "execute_result"
    }
   ],
   "source": [
    "df_drop.shape"
   ]
  },
  {
   "cell_type": "code",
   "execution_count": 116,
   "metadata": {},
   "outputs": [
    {
     "data": {
      "text/plain": [
       "by         object\n",
       "time        int64\n",
       "type       object\n",
       "text       object\n",
       "parent    float64\n",
       "id          int64\n",
       "dtype: object"
      ]
     },
     "execution_count": 116,
     "metadata": {},
     "output_type": "execute_result"
    }
   ],
   "source": [
    "df_drop.dtypes"
   ]
  },
  {
   "cell_type": "code",
   "execution_count": 117,
   "metadata": {},
   "outputs": [],
   "source": [
    "from vaderSentiment.vaderSentiment import SentimentIntensityAnalyzer\n",
    "sia = SentimentIntensityAnalyzer()"
   ]
  },
  {
   "cell_type": "code",
   "execution_count": 118,
   "metadata": {},
   "outputs": [
    {
     "data": {
      "text/plain": [
       "str"
      ]
     },
     "execution_count": 118,
     "metadata": {},
     "output_type": "execute_result"
    }
   ],
   "source": [
    "type(df_drop['text'][0])"
   ]
  },
  {
   "cell_type": "code",
   "execution_count": 119,
   "metadata": {},
   "outputs": [],
   "source": [
    "s = sia.polarity_scores(df_drop['text'][0])"
   ]
  },
  {
   "cell_type": "code",
   "execution_count": 120,
   "metadata": {},
   "outputs": [
    {
     "data": {
      "text/plain": [
       "{'neg': 0.124, 'neu': 0.636, 'pos': 0.239, 'compound': 0.706}"
      ]
     },
     "execution_count": 120,
     "metadata": {},
     "output_type": "execute_result"
    }
   ],
   "source": [
    "s"
   ]
  },
  {
   "cell_type": "code",
   "execution_count": 121,
   "metadata": {},
   "outputs": [
    {
     "data": {
      "text/plain": [
       "0.124"
      ]
     },
     "execution_count": 121,
     "metadata": {},
     "output_type": "execute_result"
    }
   ],
   "source": [
    "s['neg']"
   ]
  },
  {
   "cell_type": "code",
   "execution_count": 122,
   "metadata": {},
   "outputs": [
    {
     "data": {
      "text/plain": [
       "{'neg': 0.124, 'neu': 0.636, 'pos': 0.239, 'compound': 0.706}"
      ]
     },
     "execution_count": 122,
     "metadata": {},
     "output_type": "execute_result"
    }
   ],
   "source": [
    "sia.polarity_scores(df_drop['text'][0])"
   ]
  },
  {
   "cell_type": "code",
   "execution_count": 123,
   "metadata": {},
   "outputs": [],
   "source": [
    "df_drop['compound']=np.zeros(df_drop.shape[0])\n",
    "# df_drop['pos']=np.zeros(df_drop.shape[0])\n",
    "# df_drop['neu']=np.zeros(df_drop.shape[0])"
   ]
  },
  {
   "cell_type": "code",
   "execution_count": 124,
   "metadata": {},
   "outputs": [
    {
     "name": "stderr",
     "output_type": "stream",
     "text": [
      "/Users/karthikmahendra/anaconda3/lib/python3.7/site-packages/ipykernel_launcher.py:4: SettingWithCopyWarning: \n",
      "A value is trying to be set on a copy of a slice from a DataFrame\n",
      "\n",
      "See the caveats in the documentation: http://pandas.pydata.org/pandas-docs/stable/indexing.html#indexing-view-versus-copy\n",
      "  after removing the cwd from sys.path.\n"
     ]
    }
   ],
   "source": [
    "# populate vader sentiments in additional cols\n",
    "for idx,x in df_drop['text'].iteritems():\n",
    "    #print (idx,x)\n",
    "    df_drop['compound'][idx] = sia.polarity_scores(x)['compound']\n",
    "#     df_drop['pos'][idx] = sia.polarity_scores(x)['pos']\n",
    "#     df_drop['neu'][idx]= sia.polarity_scores(x)['neu']\n"
   ]
  },
  {
   "cell_type": "code",
   "execution_count": 125,
   "metadata": {},
   "outputs": [
    {
     "data": {
      "text/html": [
       "<div>\n",
       "<style scoped>\n",
       "    .dataframe tbody tr th:only-of-type {\n",
       "        vertical-align: middle;\n",
       "    }\n",
       "\n",
       "    .dataframe tbody tr th {\n",
       "        vertical-align: top;\n",
       "    }\n",
       "\n",
       "    .dataframe thead th {\n",
       "        text-align: right;\n",
       "    }\n",
       "</style>\n",
       "<table border=\"1\" class=\"dataframe\">\n",
       "  <thead>\n",
       "    <tr style=\"text-align: right;\">\n",
       "      <th></th>\n",
       "      <th>by</th>\n",
       "      <th>time</th>\n",
       "      <th>type</th>\n",
       "      <th>text</th>\n",
       "      <th>parent</th>\n",
       "      <th>id</th>\n",
       "      <th>compound</th>\n",
       "    </tr>\n",
       "  </thead>\n",
       "  <tbody>\n",
       "    <tr>\n",
       "      <th>0</th>\n",
       "      <td>danmaz74</td>\n",
       "      <td>1368003409</td>\n",
       "      <td>comment</td>\n",
       "      <td>\"HackingItalia\" has much better chances of suc...</td>\n",
       "      <td>5672999.0</td>\n",
       "      <td>5673213</td>\n",
       "      <td>0.7060</td>\n",
       "    </tr>\n",
       "    <tr>\n",
       "      <th>1</th>\n",
       "      <td>danmaz74</td>\n",
       "      <td>1362914038</td>\n",
       "      <td>comment</td>\n",
       "      <td>The (not so) funny thing is that this has been...</td>\n",
       "      <td>5350893.0</td>\n",
       "      <td>5351456</td>\n",
       "      <td>0.8727</td>\n",
       "    </tr>\n",
       "    <tr>\n",
       "      <th>2</th>\n",
       "      <td>danmaz74</td>\n",
       "      <td>1380696100</td>\n",
       "      <td>comment</td>\n",
       "      <td>Absolutely. There is also no clue that the pag...</td>\n",
       "      <td>6479777.0</td>\n",
       "      <td>6481042</td>\n",
       "      <td>-0.2960</td>\n",
       "    </tr>\n",
       "    <tr>\n",
       "      <th>3</th>\n",
       "      <td>danmaz74</td>\n",
       "      <td>1370794029</td>\n",
       "      <td>comment</td>\n",
       "      <td>Does anybody have ideas about how a small fore...</td>\n",
       "      <td>5849087.0</td>\n",
       "      <td>5849372</td>\n",
       "      <td>0.4588</td>\n",
       "    </tr>\n",
       "    <tr>\n",
       "      <th>4</th>\n",
       "      <td>danmaz74</td>\n",
       "      <td>1383740372</td>\n",
       "      <td>comment</td>\n",
       "      <td>Great, I'll try your service instead of deskto...</td>\n",
       "      <td>6681977.0</td>\n",
       "      <td>6682294</td>\n",
       "      <td>0.8555</td>\n",
       "    </tr>\n",
       "  </tbody>\n",
       "</table>\n",
       "</div>"
      ],
      "text/plain": [
       "         by        time     type  \\\n",
       "0  danmaz74  1368003409  comment   \n",
       "1  danmaz74  1362914038  comment   \n",
       "2  danmaz74  1380696100  comment   \n",
       "3  danmaz74  1370794029  comment   \n",
       "4  danmaz74  1383740372  comment   \n",
       "\n",
       "                                                text     parent       id  \\\n",
       "0  \"HackingItalia\" has much better chances of suc...  5672999.0  5673213   \n",
       "1  The (not so) funny thing is that this has been...  5350893.0  5351456   \n",
       "2  Absolutely. There is also no clue that the pag...  6479777.0  6481042   \n",
       "3  Does anybody have ideas about how a small fore...  5849087.0  5849372   \n",
       "4  Great, I'll try your service instead of deskto...  6681977.0  6682294   \n",
       "\n",
       "   compound  \n",
       "0    0.7060  \n",
       "1    0.8727  \n",
       "2   -0.2960  \n",
       "3    0.4588  \n",
       "4    0.8555  "
      ]
     },
     "execution_count": 125,
     "metadata": {},
     "output_type": "execute_result"
    }
   ],
   "source": [
    "df_drop.head()"
   ]
  },
  {
   "cell_type": "code",
   "execution_count": 126,
   "metadata": {},
   "outputs": [],
   "source": [
    "# # Set threshold of .5 for filtering positive and negative comments. drop comments with value 1 \n",
    "\n",
    "# df_neg = df_drop[(df_drop['neg']> 0.5) & (df_drop['neg'] !=1)]\n",
    "# df_pos = df_drop[(df_drop['pos']> 0.5) & (df_drop['pos'] !=1)]"
   ]
  },
  {
   "cell_type": "code",
   "execution_count": 127,
   "metadata": {},
   "outputs": [],
   "source": [
    "df_drop = df_drop.sort_values(['compound'],ascending=False)\n",
    "#df_pos =df_pos.sort_values(['pos'],ascending=False)"
   ]
  },
  {
   "cell_type": "code",
   "execution_count": 128,
   "metadata": {},
   "outputs": [],
   "source": [
    "from datetime import datetime\n",
    "\n",
    "#convert unix time to datetime object with accuracy of secs\n",
    "\n",
    "df_drop['time']=pd.to_datetime(df_drop['time'],unit='s')"
   ]
  },
  {
   "cell_type": "code",
   "execution_count": 129,
   "metadata": {},
   "outputs": [],
   "source": [
    "# top 10 positive comments\n",
    "df_pos = df_drop.head(10)"
   ]
  },
  {
   "cell_type": "code",
   "execution_count": 130,
   "metadata": {},
   "outputs": [],
   "source": [
    "# # top 10 negative comments\n",
    "df_neg = df_drop.tail(10)"
   ]
  },
  {
   "cell_type": "code",
   "execution_count": 131,
   "metadata": {},
   "outputs": [],
   "source": [
    "df_pos = df_pos.sort_values(['time'],ascending=False)\n",
    "df_neg = df_neg.sort_values(['time'],ascending=False)"
   ]
  },
  {
   "cell_type": "code",
   "execution_count": 132,
   "metadata": {},
   "outputs": [
    {
     "data": {
      "text/html": [
       "<div>\n",
       "<style scoped>\n",
       "    .dataframe tbody tr th:only-of-type {\n",
       "        vertical-align: middle;\n",
       "    }\n",
       "\n",
       "    .dataframe tbody tr th {\n",
       "        vertical-align: top;\n",
       "    }\n",
       "\n",
       "    .dataframe thead th {\n",
       "        text-align: right;\n",
       "    }\n",
       "</style>\n",
       "<table border=\"1\" class=\"dataframe\">\n",
       "  <thead>\n",
       "    <tr style=\"text-align: right;\">\n",
       "      <th></th>\n",
       "      <th>by</th>\n",
       "      <th>time</th>\n",
       "      <th>type</th>\n",
       "      <th>text</th>\n",
       "      <th>parent</th>\n",
       "      <th>id</th>\n",
       "      <th>compound</th>\n",
       "    </tr>\n",
       "  </thead>\n",
       "  <tbody>\n",
       "    <tr>\n",
       "      <th>1654</th>\n",
       "      <td>danmaz74</td>\n",
       "      <td>2014-12-19 08:22:15</td>\n",
       "      <td>comment</td>\n",
       "      <td>There isn't an easy way imho, because this was...</td>\n",
       "      <td>8771114.0</td>\n",
       "      <td>8771471</td>\n",
       "      <td>0.9923</td>\n",
       "    </tr>\n",
       "    <tr>\n",
       "      <th>343</th>\n",
       "      <td>danmaz74</td>\n",
       "      <td>2014-11-04 12:08:35</td>\n",
       "      <td>comment</td>\n",
       "      <td>Yes, but advertising plays a big role on paid ...</td>\n",
       "      <td>8556020.0</td>\n",
       "      <td>8556127</td>\n",
       "      <td>0.9809</td>\n",
       "    </tr>\n",
       "    <tr>\n",
       "      <th>1070</th>\n",
       "      <td>danmaz74</td>\n",
       "      <td>2013-10-14 17:46:41</td>\n",
       "      <td>comment</td>\n",
       "      <td>I don't agree with the article in general, but...</td>\n",
       "      <td>6548469.0</td>\n",
       "      <td>6548583</td>\n",
       "      <td>0.9890</td>\n",
       "    </tr>\n",
       "    <tr>\n",
       "      <th>38</th>\n",
       "      <td>danmaz74</td>\n",
       "      <td>2013-03-21 07:05:10</td>\n",
       "      <td>comment</td>\n",
       "      <td>The wise little worker ant doesn't have money,...</td>\n",
       "      <td>5408876.0</td>\n",
       "      <td>5413448</td>\n",
       "      <td>0.9954</td>\n",
       "    </tr>\n",
       "    <tr>\n",
       "      <th>46</th>\n",
       "      <td>danmaz74</td>\n",
       "      <td>2012-06-04 18:24:39</td>\n",
       "      <td>comment</td>\n",
       "      <td>I didn't have the time to study the project in...</td>\n",
       "      <td>4064462.0</td>\n",
       "      <td>4065162</td>\n",
       "      <td>0.9850</td>\n",
       "    </tr>\n",
       "    <tr>\n",
       "      <th>1346</th>\n",
       "      <td>danmaz74</td>\n",
       "      <td>2012-03-14 10:17:50</td>\n",
       "      <td>comment</td>\n",
       "      <td>But it is Google itself that is creating the i...</td>\n",
       "      <td>3702045.0</td>\n",
       "      <td>3702504</td>\n",
       "      <td>0.9913</td>\n",
       "    </tr>\n",
       "    <tr>\n",
       "      <th>363</th>\n",
       "      <td>danmaz74</td>\n",
       "      <td>2011-12-26 20:54:11</td>\n",
       "      <td>comment</td>\n",
       "      <td>As this is in beta, if it sells or not is some...</td>\n",
       "      <td>3393644.0</td>\n",
       "      <td>3393909</td>\n",
       "      <td>0.9916</td>\n",
       "    </tr>\n",
       "    <tr>\n",
       "      <th>498</th>\n",
       "      <td>danmaz74</td>\n",
       "      <td>2011-12-26 18:23:06</td>\n",
       "      <td>comment</td>\n",
       "      <td>Thank you for your suggestions.The \"Executive ...</td>\n",
       "      <td>3393433.0</td>\n",
       "      <td>3393485</td>\n",
       "      <td>0.9867</td>\n",
       "    </tr>\n",
       "    <tr>\n",
       "      <th>1186</th>\n",
       "      <td>danmaz74</td>\n",
       "      <td>2011-11-23 17:23:14</td>\n",
       "      <td>comment</td>\n",
       "      <td>In Italy salaries for tech jobs are higher, bu...</td>\n",
       "      <td>3270096.0</td>\n",
       "      <td>3270778</td>\n",
       "      <td>0.9923</td>\n",
       "    </tr>\n",
       "    <tr>\n",
       "      <th>506</th>\n",
       "      <td>danmaz74</td>\n",
       "      <td>2011-10-13 11:57:22</td>\n",
       "      <td>comment</td>\n",
       "      <td>I'm not talking about a small village, but a s...</td>\n",
       "      <td>3106744.0</td>\n",
       "      <td>3106890</td>\n",
       "      <td>0.9826</td>\n",
       "    </tr>\n",
       "  </tbody>\n",
       "</table>\n",
       "</div>"
      ],
      "text/plain": [
       "            by                time     type  \\\n",
       "1654  danmaz74 2014-12-19 08:22:15  comment   \n",
       "343   danmaz74 2014-11-04 12:08:35  comment   \n",
       "1070  danmaz74 2013-10-14 17:46:41  comment   \n",
       "38    danmaz74 2013-03-21 07:05:10  comment   \n",
       "46    danmaz74 2012-06-04 18:24:39  comment   \n",
       "1346  danmaz74 2012-03-14 10:17:50  comment   \n",
       "363   danmaz74 2011-12-26 20:54:11  comment   \n",
       "498   danmaz74 2011-12-26 18:23:06  comment   \n",
       "1186  danmaz74 2011-11-23 17:23:14  comment   \n",
       "506   danmaz74 2011-10-13 11:57:22  comment   \n",
       "\n",
       "                                                   text     parent       id  \\\n",
       "1654  There isn't an easy way imho, because this was...  8771114.0  8771471   \n",
       "343   Yes, but advertising plays a big role on paid ...  8556020.0  8556127   \n",
       "1070  I don't agree with the article in general, but...  6548469.0  6548583   \n",
       "38    The wise little worker ant doesn't have money,...  5408876.0  5413448   \n",
       "46    I didn't have the time to study the project in...  4064462.0  4065162   \n",
       "1346  But it is Google itself that is creating the i...  3702045.0  3702504   \n",
       "363   As this is in beta, if it sells or not is some...  3393644.0  3393909   \n",
       "498   Thank you for your suggestions.The \"Executive ...  3393433.0  3393485   \n",
       "1186  In Italy salaries for tech jobs are higher, bu...  3270096.0  3270778   \n",
       "506   I'm not talking about a small village, but a s...  3106744.0  3106890   \n",
       "\n",
       "      compound  \n",
       "1654    0.9923  \n",
       "343     0.9809  \n",
       "1070    0.9890  \n",
       "38      0.9954  \n",
       "46      0.9850  \n",
       "1346    0.9913  \n",
       "363     0.9916  \n",
       "498     0.9867  \n",
       "1186    0.9923  \n",
       "506     0.9826  "
      ]
     },
     "execution_count": 132,
     "metadata": {},
     "output_type": "execute_result"
    }
   ],
   "source": [
    "df_pos"
   ]
  },
  {
   "cell_type": "code",
   "execution_count": 133,
   "metadata": {},
   "outputs": [
    {
     "data": {
      "text/html": [
       "<div>\n",
       "<style scoped>\n",
       "    .dataframe tbody tr th:only-of-type {\n",
       "        vertical-align: middle;\n",
       "    }\n",
       "\n",
       "    .dataframe tbody tr th {\n",
       "        vertical-align: top;\n",
       "    }\n",
       "\n",
       "    .dataframe thead th {\n",
       "        text-align: right;\n",
       "    }\n",
       "</style>\n",
       "<table border=\"1\" class=\"dataframe\">\n",
       "  <thead>\n",
       "    <tr style=\"text-align: right;\">\n",
       "      <th></th>\n",
       "      <th>by</th>\n",
       "      <th>time</th>\n",
       "      <th>type</th>\n",
       "      <th>text</th>\n",
       "      <th>parent</th>\n",
       "      <th>id</th>\n",
       "      <th>compound</th>\n",
       "    </tr>\n",
       "  </thead>\n",
       "  <tbody>\n",
       "    <tr>\n",
       "      <th>883</th>\n",
       "      <td>danmaz74</td>\n",
       "      <td>2015-04-14 08:05:56</td>\n",
       "      <td>comment</td>\n",
       "      <td>Oh God what a perfect conspiracy! But it's not...</td>\n",
       "      <td>9370481.0</td>\n",
       "      <td>9372761</td>\n",
       "      <td>-0.9792</td>\n",
       "    </tr>\n",
       "    <tr>\n",
       "      <th>831</th>\n",
       "      <td>danmaz74</td>\n",
       "      <td>2015-02-14 11:37:40</td>\n",
       "      <td>comment</td>\n",
       "      <td>&gt; If automated cars drove perfectly 99.9999% o...</td>\n",
       "      <td>9049054.0</td>\n",
       "      <td>9049413</td>\n",
       "      <td>-0.9894</td>\n",
       "    </tr>\n",
       "    <tr>\n",
       "      <th>1585</th>\n",
       "      <td>danmaz74</td>\n",
       "      <td>2015-01-15 07:21:19</td>\n",
       "      <td>comment</td>\n",
       "      <td>As an Italian, I have to say that Italy isn't ...</td>\n",
       "      <td>8890952.0</td>\n",
       "      <td>8891305</td>\n",
       "      <td>-0.9271</td>\n",
       "    </tr>\n",
       "    <tr>\n",
       "      <th>170</th>\n",
       "      <td>danmaz74</td>\n",
       "      <td>2014-07-24 08:21:50</td>\n",
       "      <td>comment</td>\n",
       "      <td>I live in Europe, I think that employees need ...</td>\n",
       "      <td>8078570.0</td>\n",
       "      <td>8078650</td>\n",
       "      <td>-0.9352</td>\n",
       "    </tr>\n",
       "    <tr>\n",
       "      <th>424</th>\n",
       "      <td>danmaz74</td>\n",
       "      <td>2014-03-01 18:21:57</td>\n",
       "      <td>comment</td>\n",
       "      <td>First of all, the Ukrainian government wasn't ...</td>\n",
       "      <td>7325325.0</td>\n",
       "      <td>7325404</td>\n",
       "      <td>-0.9247</td>\n",
       "    </tr>\n",
       "    <tr>\n",
       "      <th>962</th>\n",
       "      <td>danmaz74</td>\n",
       "      <td>2013-09-08 19:28:05</td>\n",
       "      <td>comment</td>\n",
       "      <td>Yes, but to know \"why\" (I'd much rather say \"h...</td>\n",
       "      <td>6349815.0</td>\n",
       "      <td>6349925</td>\n",
       "      <td>-0.9402</td>\n",
       "    </tr>\n",
       "    <tr>\n",
       "      <th>868</th>\n",
       "      <td>danmaz74</td>\n",
       "      <td>2013-07-19 15:07:53</td>\n",
       "      <td>comment</td>\n",
       "      <td>The thing is that there will always be people ...</td>\n",
       "      <td>6070396.0</td>\n",
       "      <td>6070625</td>\n",
       "      <td>-0.9709</td>\n",
       "    </tr>\n",
       "    <tr>\n",
       "      <th>1371</th>\n",
       "      <td>danmaz74</td>\n",
       "      <td>2013-05-13 16:16:44</td>\n",
       "      <td>comment</td>\n",
       "      <td>What's more despicable about killing children ...</td>\n",
       "      <td>5698915.0</td>\n",
       "      <td>5699533</td>\n",
       "      <td>-0.9484</td>\n",
       "    </tr>\n",
       "    <tr>\n",
       "      <th>1287</th>\n",
       "      <td>danmaz74</td>\n",
       "      <td>2012-07-13 11:45:49</td>\n",
       "      <td>comment</td>\n",
       "      <td>If you say don't blame only the hackers, I agr...</td>\n",
       "      <td>4239281.0</td>\n",
       "      <td>4239344</td>\n",
       "      <td>-0.9353</td>\n",
       "    </tr>\n",
       "    <tr>\n",
       "      <th>1548</th>\n",
       "      <td>danmaz74</td>\n",
       "      <td>2011-11-26 19:34:51</td>\n",
       "      <td>comment</td>\n",
       "      <td>There is so much shortsightedness in this whol...</td>\n",
       "      <td>3280344.0</td>\n",
       "      <td>3280490</td>\n",
       "      <td>-0.9340</td>\n",
       "    </tr>\n",
       "  </tbody>\n",
       "</table>\n",
       "</div>"
      ],
      "text/plain": [
       "            by                time     type  \\\n",
       "883   danmaz74 2015-04-14 08:05:56  comment   \n",
       "831   danmaz74 2015-02-14 11:37:40  comment   \n",
       "1585  danmaz74 2015-01-15 07:21:19  comment   \n",
       "170   danmaz74 2014-07-24 08:21:50  comment   \n",
       "424   danmaz74 2014-03-01 18:21:57  comment   \n",
       "962   danmaz74 2013-09-08 19:28:05  comment   \n",
       "868   danmaz74 2013-07-19 15:07:53  comment   \n",
       "1371  danmaz74 2013-05-13 16:16:44  comment   \n",
       "1287  danmaz74 2012-07-13 11:45:49  comment   \n",
       "1548  danmaz74 2011-11-26 19:34:51  comment   \n",
       "\n",
       "                                                   text     parent       id  \\\n",
       "883   Oh God what a perfect conspiracy! But it's not...  9370481.0  9372761   \n",
       "831   > If automated cars drove perfectly 99.9999% o...  9049054.0  9049413   \n",
       "1585  As an Italian, I have to say that Italy isn't ...  8890952.0  8891305   \n",
       "170   I live in Europe, I think that employees need ...  8078570.0  8078650   \n",
       "424   First of all, the Ukrainian government wasn't ...  7325325.0  7325404   \n",
       "962   Yes, but to know \"why\" (I'd much rather say \"h...  6349815.0  6349925   \n",
       "868   The thing is that there will always be people ...  6070396.0  6070625   \n",
       "1371  What's more despicable about killing children ...  5698915.0  5699533   \n",
       "1287  If you say don't blame only the hackers, I agr...  4239281.0  4239344   \n",
       "1548  There is so much shortsightedness in this whol...  3280344.0  3280490   \n",
       "\n",
       "      compound  \n",
       "883    -0.9792  \n",
       "831    -0.9894  \n",
       "1585   -0.9271  \n",
       "170    -0.9352  \n",
       "424    -0.9247  \n",
       "962    -0.9402  \n",
       "868    -0.9709  \n",
       "1371   -0.9484  \n",
       "1287   -0.9353  \n",
       "1548   -0.9340  "
      ]
     },
     "execution_count": 133,
     "metadata": {},
     "output_type": "execute_result"
    }
   ],
   "source": [
    "df_neg"
   ]
  },
  {
   "cell_type": "code",
   "execution_count": null,
   "metadata": {},
   "outputs": [],
   "source": []
  }
 ],
 "metadata": {
  "kernelspec": {
   "display_name": "Python 3",
   "language": "python",
   "name": "python3"
  },
  "language_info": {
   "codemirror_mode": {
    "name": "ipython",
    "version": 3
   },
   "file_extension": ".py",
   "mimetype": "text/x-python",
   "name": "python",
   "nbconvert_exporter": "python",
   "pygments_lexer": "ipython3",
   "version": "3.7.3"
  }
 },
 "nbformat": 4,
 "nbformat_minor": 2
}
